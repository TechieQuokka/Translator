{
 "cells": [
  {
   "cell_type": "code",
   "execution_count": 1,
   "id": "35f79ada",
   "metadata": {},
   "outputs": [],
   "source": [
    "from transformers import AutoTokenizer, AutoModelForSeq2SeqLM\n",
    "import torch"
   ]
  },
  {
   "cell_type": "markdown",
   "id": "3c488f4d",
   "metadata": {},
   "source": [
    "### GPU 확인"
   ]
  },
  {
   "cell_type": "code",
   "execution_count": 2,
   "id": "38fa6af4",
   "metadata": {},
   "outputs": [
    {
     "name": "stdout",
     "output_type": "stream",
     "text": [
      "Using device: cuda\n"
     ]
    }
   ],
   "source": [
    "device = torch.device(\"cuda\" if torch.cuda.is_available() else \"cpu\")\n",
    "print(f\"Using device: {device}\")"
   ]
  },
  {
   "cell_type": "markdown",
   "id": "a2213806",
   "metadata": {},
   "source": [
    "### NLLB 모델 로드 (3.3B 버전 - 더 좋은 품질)"
   ]
  },
  {
   "cell_type": "code",
   "execution_count": 3,
   "id": "e72386a9",
   "metadata": {},
   "outputs": [
    {
     "data": {
      "application/vnd.jupyter.widget-view+json": {
       "model_id": "a0980c81a1eb4580848a32721f8c7c0d",
       "version_major": 2,
       "version_minor": 0
      },
      "text/plain": [
       "Loading checkpoint shards:   0%|          | 0/3 [00:00<?, ?it/s]"
      ]
     },
     "metadata": {},
     "output_type": "display_data"
    }
   ],
   "source": [
    "model_name = \"facebook/nllb-200-3.3B\"\n",
    "tokenizer = AutoTokenizer.from_pretrained(model_name)\n",
    "model = AutoModelForSeq2SeqLM.from_pretrained(\n",
    "    model_name, \n",
    "    torch_dtype=torch.float16,  # 메모리 절약\n",
    "    device_map=\"auto\"  # GPU 자동 할당\n",
    ")"
   ]
  },
  {
   "cell_type": "code",
   "execution_count": 4,
   "id": "d1435602",
   "metadata": {},
   "outputs": [],
   "source": [
    "def translate_text(text, target_lang_code):\n",
    "    \"\"\"\n",
    "    영어 텍스트를 목표 언어로 번역\n",
    "    \"\"\"\n",
    "    # 입력 토큰화\n",
    "    inputs = tokenizer(\n",
    "        text, \n",
    "        return_tensors=\"pt\", \n",
    "        padding=True, \n",
    "        truncation=True,\n",
    "        max_length=512\n",
    "    ).to(device)\n",
    "    \n",
    "    # 번역 생성\n",
    "    translated_tokens = model.generate(\n",
    "        **inputs,\n",
    "        forced_bos_token_id=tokenizer.convert_tokens_to_ids(target_lang_code),\n",
    "        max_length=512,\n",
    "        num_beams=5,\n",
    "        early_stopping=True\n",
    "    )\n",
    "    \n",
    "    # 결과 디코딩\n",
    "    result = tokenizer.decode(translated_tokens[0], skip_special_tokens=True)\n",
    "    return result"
   ]
  },
  {
   "cell_type": "code",
   "execution_count": 6,
   "id": "786b2369",
   "metadata": {},
   "outputs": [
    {
     "name": "stdout",
     "output_type": "stream",
     "text": [
      "Korean: 여행은 사람들이 새로운 문화를 탐구하고, 다른 사람들을 만나고, 새로운 관점에서 삶을 경험할 수 있게 해줍니다. 파리의 거리를 걷거나 페루의 산을 산책하든, 각 여행은 잊을 수 없는 추억을 가져옵니다. 또한 개인이 자신의 편안한 영역을 벗어나서 알려지지 않은 것을 포용함으로써 성장하도록 돕습니다. 다양성으로 가득 찬 세계에서 여행은 우리 모두가 얼마나 아름답게 연결되어 있는지 상기시킵니다.\n",
      "Japanese: 旅行は,人々が新しい文化を探求し,異なる人々と出会い,新しい視点から人生を経験することを可能にします.パリの街を歩いたり,ペルーの山々をハイキングしたりしても,それぞれの旅は忘れられない思い出をもたらします.また,個人が快適なゾーンから抜け出し,未知のものを抱きしめることで成長するのを助けます.多様性に満ちた世界では,旅行は,私たちがどれほど美しく繋がっているかを思い出させます.\n",
      "Chinese (Simplified): 旅行使人们能够探索新文化,遇见不同的人,从全新的角度体验生活.无论是穿越巴黎街道还是徒步在秘鲁山脉,每一次旅行都会带来难忘的回忆.它还可以帮助个人通过走出舒适区并拥抱未知的方式成长.在一个充满多样性的世界里,旅行提醒我们,我们都有多么美丽的联系.\n",
      "Chinese (Traditional): 旅行讓人們能探索新文化,遇見不同的人,從新角度體驗生活. 不論是穿越巴黎街道或徒步在秘魯山脈, 每次旅行都帶來難以忘懷的回憶. 它也幫助個人成長, 走出他們的舒適區域, 擁抱未知的世界. 在一個充滿多樣性的世界裡, 旅行提醒我們我們都是多麼美麗的連結.\n",
      "Spanish: Viajar permite a las personas explorar nuevas culturas, conocer gente diferente y experimentar la vida desde una nueva perspectiva. Ya sea caminando por las calles de París o caminando en las montañas de Perú, cada viaje trae recuerdos inolvidables. También ayuda a las personas a crecer al salir de sus zonas de confort y abrazar lo desconocido. En un mundo lleno de diversidad, viajar nos recuerda lo hermosamente conectados que todos estamos.\n",
      "French: Le voyage permet aux gens d'explorer de nouvelles cultures, de rencontrer des gens différents et de vivre la vie d'une nouvelle perspective. Que ce soit en marchant dans les rues de Paris ou en faisant de la randonnée dans les montagnes du Pérou, chaque voyage apporte des souvenirs inoubliables. Il aide également les individus à grandir en sortant de leur zone de confort et en embrassant l'inconnu. Dans un monde plein de diversité, le voyage nous rappelle à quel point nous sommes tous magnifiquement connectés.\n",
      "German: Reisen ermöglicht es Menschen, neue Kulturen zu erkunden, verschiedene Menschen kennenzulernen und das Leben aus einer neuen Perspektive zu erleben. Ob es sich nun um einen Spaziergang durch die Straßen von Paris oder eine Wanderung in den Bergen Perus handelt, jede Reise bringt unvergessliche Erinnerungen mit sich. Es hilft auch Individuen zu wachsen, indem sie aus ihren Komfortzonen treten und das Unbekannte annehmen. In einer Welt voller Vielfalt erinnert uns das Reisen daran, wie schön wir alle miteinander verbunden sind.\n",
      "Italian: Viaggiare consente alle persone di esplorare nuove culture, incontrare persone diverse e sperimentare la vita da una prospettiva nuova. Che si tratti di camminare per le strade di Parigi o fare escursioni nelle montagne del Perù, ogni viaggio porta ricordi indimenticabili. Aiuta anche gli individui a crescere uscendo dalle loro zone di comfort e abbracciando l'ignoto. In un mondo pieno di diversità, viaggiare ci ricorda quanto siamo tutti collegati.\n",
      "Portuguese: Viajar permite que as pessoas explorem novas culturas, conheçam pessoas diferentes e experimentem a vida de uma nova perspectiva. Seja caminhando pelas ruas de Paris ou caminhando nas montanhas do Peru, cada viagem traz lembranças inesquecíveis. Também ajuda os indivíduos a crescerem saindo de suas zonas de conforto e abraçando o desconhecido. Em um mundo cheio de diversidade, viajar nos lembra de quão lindamente conectados estamos todos.\n",
      "Russian: Путешествие позволяет людям исследовать новые культуры, знакомиться с разными людьми и ощущать жизнь с новой точки зрения. Будь то прогулка по улицам Парижа или походы в горы Перу, каждое путешествие приносит незабываемые воспоминания. Это также помогает людям расти, выходя из своих зон комфорта и принимая неизвестное. В мире, полном разнообразия, путешествие напоминает нам, насколько прекрасно мы все связаны.\n",
      "Arabic: السفر يسمح للناس باستكشاف ثقافات جديدة، والتعرف على أشخاص مختلفين، وتجربة الحياة من منظور جديد. سواء كان ذلك المشي في شوارع باريس أو المشي لمسافات طويلة في جبال بيرو، كل رحلة تجلب ذكريات لا تنسى. كما أنها تساعد الأفراد على النمو من خلال الخروج من مناطق الراحة الخاصة بهم وتبني المجهول. في عالم مليء بالتنوع، يساعد السفر على تذكيرنا بمدى ارتباطنا جميعًا.\n",
      "Hindi: यात्रा लोगों को नई संस्कृतियों का पता लगाने, अलग-अलग लोगों से मिलने और एक नए दृष्टिकोण से जीवन का अनुभव करने की अनुमति देती है। चाहे वह पेरिस की सड़कों के माध्यम से चलना हो या पेरू के पहाड़ों में लंबी पैदल यात्रा करना हो, प्रत्येक यात्रा अविस्मरणीय यादें लाती है। यह व्यक्तियों को अपने आराम क्षेत्रों से बाहर निकलने और अज्ञात को गले लगाने में मदद करता है। विविधता से भरी दुनिया में, यात्रा हमें याद दिलाती है कि हम सभी कितने सुंदर रूप से जुड़े हुए हैं।\n",
      "Bengali: ভ্রমণ মানুষকে নতুন সংস্কৃতি অন্বেষণ করতে, বিভিন্ন লোকের সাথে দেখা করতে এবং একটি নতুন দৃষ্টিকোণ থেকে জীবনের অভিজ্ঞতা অর্জন করতে দেয়। এটি প্যারিসের রাস্তায় হাঁটা হোক বা পেরুর পাহাড়ে হাইকিং হোক, প্রতিটি ভ্রমণ অবিস্মরণীয় স্মৃতি নিয়ে আসে। এটি ব্যক্তিদের তাদের আরামদায়ক অঞ্চল থেকে বেরিয়ে অজানাকে আলিঙ্গন করে বৃদ্ধি করতে সহায়তা করে। বৈচিত্র্যপূর্ণ বিশ্বে, ভ্রমণ আমাদের স্মরণ করিয়ে দেয় যে আমরা সবাই কতটা সুন্দরভাবে সংযুক্ত।\n",
      "Thai: การเดินทางทําให้คนสามารถสํารวจวัฒนธรรมใหม่ๆ พบกับคนต่าง ๆ และสัมผัสชีวิตจากมุมมองใหม่ๆ ไม่ว่าจะเป็นการเดินไปตามถนนของปารีส หรือการเดินป่าในภูเขาของเปรู การเดินทางแต่ละครั้งจะนําความทรงจําที่น่าลืมมาด้วย มันยังช่วยให้บุคคลเติบโตด้วยการก้าวออกจากโซนความสบายใจของพวกเขา และยึดถือสิ่งที่ไม่รู้จัก ในโลกที่เต็มไปด้วยความหลากหลาย การเดินทางเตือนเราว่าพวกเราทุกคนเชื่อมโยงกันอย่างสวยงามแค่ไหน\n",
      "Vietnamese: Du lịch cho phép mọi người khám phá các nền văn hóa mới, gặp gỡ những người khác nhau và trải nghiệm cuộc sống từ một quan điểm mới. Cho dù đó là đi bộ qua các đường phố của Paris hay đi bộ trên núi của Peru, mỗi chuyến đi đều mang lại những kỷ niệm khó quên. Nó cũng giúp các cá nhân phát triển bằng cách bước ra khỏi vùng thoải mái của họ và nắm lấy những điều chưa biết. Trong một thế giới đầy đa dạng, du lịch nhắc nhở chúng ta rằng tất cả chúng ta đều kết nối tuyệt vời như thế nào.\n",
      "Indonesian: Perjalanan memungkinkan orang untuk menjelajahi budaya baru, bertemu orang yang berbeda, dan mengalami kehidupan dari perspektif yang baru. Apakah itu berjalan melalui jalan-jalan di Paris atau mendaki di pegunungan Peru, setiap perjalanan membawa kenangan yang tak terlupakan. Hal ini juga membantu individu tumbuh dengan melangkah keluar dari zona nyaman mereka dan merangkul yang tidak diketahui. Dalam dunia yang penuh dengan keragaman, perjalanan mengingatkan kita betapa indahnya kita semua terhubung.\n",
      "Turkish: Seyahat, insanların yeni kültürleri keşfetmelerini, farklı insanlarla tanışmalarını ve hayatı yeni bir bakış açısıyla deneyimlemelerini sağlar. Paris sokaklarında yürümek veya Peru dağlarında yürümek olsun, her yolculuk unutulmaz anılar getirir. Ayrıca bireylerin konfor bölgelerinden çıkıp bilinmeyeni kucaklayarak büyümelerine yardımcı olur.\n",
      "Dutch: Reizen stelt mensen in staat om nieuwe culturen te verkennen, verschillende mensen te ontmoeten en het leven vanuit een nieuw perspectief te ervaren. Of het nu gaat om een wandeling door de straten van Parijs of een wandeling in de bergen van Peru, elke reis brengt onvergetelijke herinneringen met zich mee. Het helpt ook individuen te groeien door uit hun comfortzone te stappen en het onbekende te omarmen. In een wereld vol diversiteit herinnert reizen ons eraan hoe prachtig verbonden we allemaal zijn.\n",
      "Polish: Podróżowanie pozwala ludziom odkrywać nowe kultury, poznawać różnych ludzi i doświadczać życia z nowej perspektywy. Niezależnie od tego, czy chodzi się ulicami Paryża, czy wędruje w górach Peru, każda podróż przynosi niezapomniane wspomnienia. Pomaga również osobom rosnąć, wychodząc poza swoje strefy komfortu i obejmując nieznane. W świecie pełnym różnorodności, podróżowanie przypomina nam, jak pięknie wszyscy jesteśmy połączeni.\n",
      "Swedish: Att resa gör det möjligt för människor att utforska nya kulturer, träffa olika människor och uppleva livet ur ett nytt perspektiv. Oavsett om det är att gå genom gatorna i Paris eller vandra i bergen i Peru, ger varje resa oförglömliga minnen. Det hjälper också individer att växa genom att kliva ut ur sina komfortzoner och omfamna det okända. I en värld full av mångfald påminner resan oss om hur vackert vi alla är sammankopplade.\n",
      "Norwegian: Reise gir folk mulighet til å utforske nye kulturer, møte forskjellige mennesker, og oppleve livet fra et nytt perspektiv. Om det er å gå gjennom gatene i Paris eller vandre i fjellene i Peru, hver reise bringer uforglemmelige minner. Det hjelper også individer vokse ved å gå ut av sine komfortsoner og omfavne det ukjente. I en verden full av mangfold, reiser minner oss om hvor vakkert vi alle er forbundet.\n",
      "Finnish: Matkustaminen antaa ihmisille mahdollisuuden tutustua uusiin kulttuureihin, tavata erilaisia ihmisiä ja kokea elämä uudesta näkökulmasta. Olipa se kävely Pariisin kaduilla tai vaellus Perun vuorilla, jokainen matka tuo unohtumattomia muistoja. Se myös auttaa yksilöitä kasvamaan astumalla ulos mukavuusalueistaan ja omaksumalla tuntematon. Monimuotoisuuden maailmassa matkustaminen muistuttaa meitä siitä, kuinka kauniisti olemme kaikki yhteydessä.\n",
      "Greek: Το ταξίδι επιτρέπει στους ανθρώπους να εξερευνήσουν νέους πολιτισμούς, να γνωρίσουν διαφορετικούς ανθρώπους και να βιώσουν τη ζωή από μια νέα οπτική γωνία. Είτε πρόκειται για βόλτες στους δρόμους του Παρισιού είτε για πεζοπορία στα βουνά του Περού, κάθε ταξίδι φέρνει αξέχαστες αναμνήσεις. Επίσης βοηθά τα άτομα να αναπτυχθούν βγαίνοντας από τις ζώνες άνεσής τους και αγκαλιάζοντας το άγνωστο.\n",
      "Hebrew: הנסיעה מאפשרת לאנשים לחקור תרבויות חדשות, לפגוש אנשים שונים, ולחוות את החיים מנקודת מבט חדשה. בין אם מדובר בהליכה ברחובות פריז או טיול בהרים של פרו, כל נסיעה מביאה זיכרונות בלתי נשכחים. היא גם עוזרת לאנשים לצמוח על ידי צעד מחוץ לאזורי הנוחות שלהם ומקיפה את הלא ידוע. בעולם מלא מגוון, הנסיעה מזכירה לנו כמה נפלא כולנו מחוברים.\n",
      "Persian: سفر به مردم اجازه می دهد تا فرهنگ های جدید را کشف کنند، با افراد مختلف آشنا شوند و زندگی را از دیدگاه تازه ای تجربه کنند. چه پیاده روی در خیابان های پاریس باشد یا پیاده روی در کوه های پرو، هر سفر خاطرات فراموش نشدنی را به ارمغان می آورد. همچنین به افراد کمک می کند تا با خارج شدن از مناطق راحتی خود و پذیرفتن ناشناخته رشد کنند. در دنیایی پر از تنوع، سفر به ما یادآوری می کند که همه ما چقدر به زیبایی به هم متصل هستیم.\n",
      "Urdu: سفر لوگوں کو نئی ثقافتوں کا پتہ لگانے ، مختلف لوگوں سے ملنے اور زندگی کو ایک نئے نقطہ نظر سے تجربہ کرنے کی اجازت دیتا ہے۔ چاہے وہ پیرس کی سڑکوں پر چل رہا ہو یا پیرو کے پہاڑوں میں پیدل سفر ، ہر سفر ناقابل فراموش یادیں لاتا ہے۔ یہ افراد کو اپنے راحت والے علاقوں سے باہر نکل کر اور نامعلوم کو قبول کرکے ترقی کرنے میں بھی مدد کرتا ہے۔ تنوع سے بھری دنیا میں ، سفر ہمیں یاد دلاتا ہے کہ ہم سب کتنے خوبصورت طور پر جڑے ہوئے ہیں۔\n",
      "Tamil: பயணம் புதிய கலாச்சாரங்களை ஆராயவும், வெவ்வேறு நபர்களைச் சந்திக்கவும், புதிய கண்ணோட்டத்தில் வாழ்க்கையை அனுபவிக்கவும் மக்களை அனுமதிக்கிறது. இது பாரிஸின் தெருக்களில் நடந்து செல்வதோ அல்லது பெருவின் மலைகளில் நடைபயிற்சி செய்வதோ, ஒவ்வொரு பயணமும் மறக்க முடியாத நினைவுகளைத் தருகிறது. இது தனிநபர்கள் தங்கள் ஆறுதல் மண்டலங்களிலிருந்து வெளியேறி அறியப்படாதவற்றைத் தழுவுவதன் மூலம் வளர உதவுகிறது. பன்முகத்தன்மை நிறைந்த உலகில், பயணம் நாம் அனைவரும் எவ்வளவு அழகாக இணைக்கப்பட்டுள்ளோம் என்பதை நினைவூட்டுகிறது.\n",
      "Telugu: ప్రయాణించడం వల్ల ప్రజలు కొత్త సంస్కృతులను అన్వేషించడానికి, వేర్వేరు వ్యక్తులను కలవడానికి మరియు జీవితాన్ని కొత్త కోణం నుండి అనుభవించడానికి వీలు కల్పిస్తుంది. ఇది పారిస్ వీధుల గుండా నడవడం లేదా పెరూ పర్వతాలలో హైకింగ్ అయినా, ప్రతి ప్రయాణం మరపురాని జ్ఞాపకాలను తెస్తుంది. ఇది వారి కంఫర్ట్ జోన్ల నుండి బయటపడటం ద్వారా మరియు తెలియని వాటిని స్వీకరించడం ద్వారా వ్యక్తులు ఎదగడానికి కూడా సహాయపడుతుంది. వైవిధ్యంతో నిండిన ప్రపంచంలో, ప్రయాణం మనమందరం ఎంత అందంగా కనెక్ట్ అయి ఉన్నామో గుర్తు చేస్తుంది.\n",
      "Malay: Perjalanan membolehkan orang untuk meneroka budaya baru, bertemu orang yang berbeza, dan mengalami kehidupan dari perspektif yang baru. Sama ada berjalan melalui jalan-jalan di Paris atau mendaki di pergunungan Peru, setiap perjalanan membawa kenangan yang tidak dapat dilupakan. Ia juga membantu individu berkembang dengan melangkah keluar dari zon selesa mereka dan merangkul yang tidak diketahui. Dalam dunia yang penuh dengan kepelbagaian, perjalanan mengingatkan kita betapa indahnya hubungan kita semua.\n",
      "Swahili: Kusafiri inaruhusu watu kuchunguza tamaduni mpya, kukutana na watu tofauti, na uzoefu wa maisha kutoka mtazamo mpya. Kama ni kutembea kwa njia ya mitaa ya Paris au hiking katika milima ya Peru, kila safari huleta kumbukumbu unforgettable. Pia husaidia watu kukua kwa kutembea nje ya maeneo yao ya faraja na kukumbatia haijulikani. Katika dunia kamili ya utofauti, kusafiri inatukumbusha jinsi nzuri sisi wote ni kushikamana.\n"
     ]
    }
   ],
   "source": [
    "# 주요 30개 언어 코드 (NLLB 기준)\n",
    "target_languages = {\n",
    "    'Korean': 'kor_Hang',\n",
    "    'Japanese': 'jpn_Jpan',\n",
    "    'Chinese (Simplified)': 'zho_Hans',\n",
    "    'Chinese (Traditional)': 'zho_Hant',\n",
    "    'Spanish': 'spa_Latn',\n",
    "    'French': 'fra_Latn',\n",
    "    'German': 'deu_Latn',\n",
    "    'Italian': 'ita_Latn',\n",
    "    'Portuguese': 'por_Latn',\n",
    "    'Russian': 'rus_Cyrl',\n",
    "    'Arabic': 'arb_Arab',\n",
    "    'Hindi': 'hin_Deva',\n",
    "    'Bengali': 'ben_Beng',\n",
    "    'Thai': 'tha_Thai',\n",
    "    'Vietnamese': 'vie_Latn',\n",
    "    'Indonesian': 'ind_Latn',\n",
    "    'Turkish': 'tur_Latn',\n",
    "    'Dutch': 'nld_Latn',\n",
    "    'Polish': 'pol_Latn',\n",
    "    'Swedish': 'swe_Latn',\n",
    "    'Norwegian': 'nob_Latn',\n",
    "    'Finnish': 'fin_Latn',\n",
    "    'Greek': 'ell_Grek',\n",
    "    'Hebrew': 'heb_Hebr',\n",
    "    'Persian': 'pes_Arab',\n",
    "    'Urdu': 'urd_Arab',\n",
    "    'Tamil': 'tam_Taml',\n",
    "    'Telugu': 'tel_Telu',\n",
    "    'Malay': 'zsm_Latn',\n",
    "    'Swahili': 'swh_Latn'\n",
    "}\n",
    "\n",
    "# 번역 실행 예시\n",
    "input_text = \"Traveling allows people to explore new cultures, meet different people, and experience life from a fresh perspective. Whether it's walking through the streets of Paris or hiking in the mountains of Peru, each journey brings unforgettable memories. It also helps individuals grow by stepping out of their comfort zones and embracing the unknown. In a world full of diversity, traveling reminds us how beautifully connected we all are.\"\n",
    "results = {}\n",
    "\n",
    "for lang_name, lang_code in target_languages.items():\n",
    "    try:\n",
    "        translated = translate_text(input_text, lang_code)\n",
    "        results[lang_name] = translated\n",
    "        print(f\"{lang_name}: {translated}\")\n",
    "    except Exception as e:\n",
    "        print(f\"Error translating to {lang_name}: {e}\")"
   ]
  },
  {
   "cell_type": "code",
   "execution_count": null,
   "id": "5211c862",
   "metadata": {},
   "outputs": [],
   "source": []
  }
 ],
 "metadata": {
  "kernelspec": {
   "display_name": "beethoven",
   "language": "python",
   "name": "python3"
  },
  "language_info": {
   "codemirror_mode": {
    "name": "ipython",
    "version": 3
   },
   "file_extension": ".py",
   "mimetype": "text/x-python",
   "name": "python",
   "nbconvert_exporter": "python",
   "pygments_lexer": "ipython3",
   "version": "3.11.9"
  }
 },
 "nbformat": 4,
 "nbformat_minor": 5
}
